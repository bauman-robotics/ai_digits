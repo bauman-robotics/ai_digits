{
 "cells": [
  {
   "cell_type": "code",
   "execution_count": 1,
   "id": "a2edc675-21b4-4186-8c80-7d1f0c3534d8",
   "metadata": {
    "scrolled": true
   },
   "outputs": [
    {
     "name": "stderr",
     "output_type": "stream",
     "text": [
      "2024-06-04 22:51:41.972084: I external/local_tsl/tsl/cuda/cudart_stub.cc:32] Could not find cuda drivers on your machine, GPU will not be used.\n",
      "2024-06-04 22:51:41.975762: I external/local_tsl/tsl/cuda/cudart_stub.cc:32] Could not find cuda drivers on your machine, GPU will not be used.\n",
      "2024-06-04 22:51:42.027250: I tensorflow/core/platform/cpu_feature_guard.cc:210] This TensorFlow binary is optimized to use available CPU instructions in performance-critical operations.\n",
      "To enable the following instructions: AVX2 FMA, in other operations, rebuild TensorFlow with the appropriate compiler flags.\n",
      "2024-06-04 22:51:43.242057: W tensorflow/compiler/tf2tensorrt/utils/py_utils.cc:38] TF-TRT Warning: Could not find TensorRT\n"
     ]
    }
   ],
   "source": [
    "from tensorflow.keras.datasets import mnist\n",
    "(train_images, train_labels), (test_images, test_labels) = mnist.load_data()\n",
    "import matplotlib.pyplot as plt\n"
   ]
  },
  {
   "cell_type": "code",
   "execution_count": 2,
   "id": "da0f454a-4168-4a22-a018-ab0e068e7b4e",
   "metadata": {},
   "outputs": [
    {
     "name": "stdout",
     "output_type": "stream",
     "text": [
      "dtype = uint8\n",
      "ndim = 3\n",
      "shape = (60000, 28, 28)\n"
     ]
    },
    {
     "data": {
      "image/png": "[encoded data removed]",
      "text/plain": [
       "<Figure size 640x480 with 1 Axes>"
      ]
     },
     "metadata": {},
     "output_type": "display_data"
    }
   ],
   "source": [
    "type(train_images)\n",
    "print('dtype =', train_images.dtype)\n",
    "print('ndim =', train_images.ndim)\n",
    "print('shape =', train_images.shape)\n",
    "\n",
    "#plt.imshow(train_images[0], cmap=plt.cm.binary)\n",
    "plt.imshow(train_images[0], cmap=plt.cm.gray)\n",
    "\n",
    "plt.show()\n",
    "\n",
    "train_images = train_images.reshape((60000, 28 * 28))\n",
    "train_images = train_images.astype('float32') / 255\n",
    "test_images = test_images.reshape((10000, 28 * 28))\n",
    "test_images = test_images.astype('float32') / 255"
   ]
  },
  {
   "cell_type": "code",
   "execution_count": 3,
   "id": "61f45c8f-eecb-456c-99be-1368866d13b0",
   "metadata": {},
   "outputs": [],
   "source": [
    "from tensorflow import keras\n",
    "from tensorflow.keras import layers\n",
    "model = keras.Sequential([\n",
    "layers.Dense(512, activation=\"relu\"),\n",
    "layers.Dense(10, activation=\"softmax\")\n",
    "])"
   ]
  },
  {
   "cell_type": "code",
   "execution_count": 4,
   "id": "d30d5429-995d-45ae-992c-a9fbc07c3b32",
   "metadata": {},
   "outputs": [],
   "source": [
    "model.compile(optimizer=\"rmsprop\",\n",
    "loss=\"sparse_categorical_crossentropy\",\n",
    "metrics=[\"accuracy\"])"
   ]
  },
  {
   "cell_type": "code",
   "execution_count": 5,
   "id": "01061678-89e3-41d8-aae5-bab8609a0097",
   "metadata": {
    "scrolled": true
   },
   "outputs": [
    {
     "name": "stdout",
     "output_type": "stream",
     "text": [
      "Epoch 1/5\n"
     ]
    },
    {
     "name": "stderr",
     "output_type": "stream",
     "text": [
      "2024-06-04 22:51:55.856909: W external/local_tsl/tsl/framework/cpu_allocator_impl.cc:83] Allocation of 188160000 exceeds 10% of free system memory.\n"
     ]
    },
    {
     "name": "stdout",
     "output_type": "stream",
     "text": [
      "\u001b[1m469/469\u001b[0m \u001b[32m━━━━━━━━━━━━━━━━━━━━\u001b[0m\u001b[37m\u001b[0m \u001b[1m4s\u001b[0m 7ms/step - accuracy: 0.8722 - loss: 0.4401\n",
      "Epoch 2/5\n",
      "\u001b[1m469/469\u001b[0m \u001b[32m━━━━━━━━━━━━━━━━━━━━\u001b[0m\u001b[37m\u001b[0m \u001b[1m4s\u001b[0m 8ms/step - accuracy: 0.9635 - loss: 0.1233\n",
      "Epoch 3/5\n",
      "\u001b[1m469/469\u001b[0m \u001b[32m━━━━━━━━━━━━━━━━━━━━\u001b[0m\u001b[37m\u001b[0m \u001b[1m4s\u001b[0m 9ms/step - accuracy: 0.9786 - loss: 0.0717\n",
      "Epoch 4/5\n",
      "\u001b[1m469/469\u001b[0m \u001b[32m━━━━━━━━━━━━━━━━━━━━\u001b[0m\u001b[37m\u001b[0m \u001b[1m4s\u001b[0m 9ms/step - accuracy: 0.9844 - loss: 0.0514\n",
      "Epoch 5/5\n",
      "\u001b[1m469/469\u001b[0m \u001b[32m━━━━━━━━━━━━━━━━━━━━\u001b[0m\u001b[37m\u001b[0m \u001b[1m4s\u001b[0m 9ms/step - accuracy: 0.9881 - loss: 0.0382\n"
     ]
    },
    {
     "data": {
      "text/plain": [
       "<keras.src.callbacks.history.History at 0x7f19269e0760>"
      ]
     },
     "execution_count": 5,
     "metadata": {},
     "output_type": "execute_result"
    }
   ],
   "source": [
    "model.fit(train_images, train_labels, epochs=5, batch_size=128)\n",
    "#model.fit(train_images, train_labels, epochs=100, batch_size=500)"
   ]
  },
  {
   "cell_type": "code",
   "execution_count": 6,
   "id": "d18b61da-2c36-44a4-ae3a-b507901d149b",
   "metadata": {},
   "outputs": [
    {
     "name": "stdout",
     "output_type": "stream",
     "text": [
      "\u001b[1m1/1\u001b[0m \u001b[32m━━━━━━━━━━━━━━━━━━━━\u001b[0m\u001b[37m\u001b[0m \u001b[1m0s\u001b[0m 63ms/step\n",
      "#######################\n",
      "p_num =  0\n",
      "test_label - 7\n",
      "is  0 --- 0.000\n",
      "is  1 --- 0.000\n",
      "is  2 --- 0.000\n",
      "is  3 --- 0.000\n",
      "is  4 --- 0.000\n",
      "is  5 --- 0.000\n",
      "is  6 --- 0.000\n",
      "is  7 --- 1.000\n",
      "is  8 --- 0.000\n",
      "is  9 --- 0.000\n",
      "#######################\n",
      "p_num =  1\n",
      "test_label - 2\n",
      "is  0 --- 0.000\n",
      "is  1 --- 0.000\n",
      "is  2 --- 1.000\n",
      "is  3 --- 0.000\n",
      "is  4 --- 0.000\n",
      "is  5 --- 0.000\n",
      "is  6 --- 0.000\n",
      "is  7 --- 0.000\n",
      "is  8 --- 0.000\n",
      "is  9 --- 0.000\n",
      "#######################\n"
     ]
    }
   ],
   "source": [
    "test_digits = test_images[0:10]\n",
    "predictions = model.predict(test_digits)\n",
    "#predictions[0]\n",
    "\n",
    "print('#######################')\n",
    "p_num = 0\n",
    "print('p_num = ', p_num)\n",
    "print('test_label -' , test_labels[p_num])\n",
    "for i in range (10):\n",
    "      print('is ', i, '---', \"%.3f\" %(predictions[p_num][i])) \n",
    "print('#######################')\n",
    "\n",
    "p_num = 1\n",
    "print('p_num = ', p_num)\n",
    "print('test_label -' , test_labels[p_num])\n",
    "for i in range (10):\n",
    "      print('is ', i, '---', \"%.3f\" %(predictions[p_num][i])) \n",
    "print('#######################')"
   ]
  },
  {
   "cell_type": "code",
   "execution_count": 7,
   "id": "6b38a27c-b2b9-4dd1-a94b-92b63901720d",
   "metadata": {
    "scrolled": true
   },
   "outputs": [
    {
     "ename": "FileNotFoundError",
     "evalue": "[Errno 2] No such file or directory: '/home/andrey/projects/ai/ai_digits/mnist/Test_imgs/0_ok.png'",
     "output_type": "error",
     "traceback": [
      "\u001b[0;31m---------------------------------------------------------------------------\u001b[0m",
      "\u001b[0;31mFileNotFoundError\u001b[0m                         Traceback (most recent call last)",
      "Cell \u001b[0;32mIn[7], line 6\u001b[0m\n\u001b[1;32m      3\u001b[0m \u001b[38;5;28;01mimport\u001b[39;00m \u001b[38;5;21;01mmatplotlib\u001b[39;00m\u001b[38;5;21;01m.\u001b[39;00m\u001b[38;5;21;01mpyplot\u001b[39;00m \u001b[38;5;28;01mas\u001b[39;00m \u001b[38;5;21;01mplt\u001b[39;00m \n\u001b[1;32m      4\u001b[0m \u001b[38;5;66;03m#import ai_functions as func\u001b[39;00m\n\u001b[0;32m----> 6\u001b[0m img00 \u001b[38;5;241m=\u001b[39m np\u001b[38;5;241m.\u001b[39masarray(\u001b[43mImage\u001b[49m\u001b[38;5;241;43m.\u001b[39;49m\u001b[43mopen\u001b[49m\u001b[43m(\u001b[49m\u001b[38;5;124;43m'\u001b[39;49m\u001b[38;5;124;43m./mnist/Test_imgs/0_ok.png\u001b[39;49m\u001b[38;5;124;43m'\u001b[39;49m\u001b[43m)\u001b[49m\u001b[38;5;241m.\u001b[39mconvert(\u001b[38;5;124m'\u001b[39m\u001b[38;5;124mL\u001b[39m\u001b[38;5;124m'\u001b[39m))\n\u001b[1;32m      7\u001b[0m img01 \u001b[38;5;241m=\u001b[39m np\u001b[38;5;241m.\u001b[39masarray(Image\u001b[38;5;241m.\u001b[39mopen(\u001b[38;5;124m'\u001b[39m\u001b[38;5;124m./mnist/Test_imgs/1_ok_1.png\u001b[39m\u001b[38;5;124m'\u001b[39m)\u001b[38;5;241m.\u001b[39mconvert(\u001b[38;5;124m'\u001b[39m\u001b[38;5;124mL\u001b[39m\u001b[38;5;124m'\u001b[39m))\n\u001b[1;32m      8\u001b[0m img02 \u001b[38;5;241m=\u001b[39m np\u001b[38;5;241m.\u001b[39masarray(Image\u001b[38;5;241m.\u001b[39mopen(\u001b[38;5;124m'\u001b[39m\u001b[38;5;124m./mnist/Test_imgs/2_ok_1.png\u001b[39m\u001b[38;5;124m'\u001b[39m)\u001b[38;5;241m.\u001b[39mconvert(\u001b[38;5;124m'\u001b[39m\u001b[38;5;124mL\u001b[39m\u001b[38;5;124m'\u001b[39m))\n",
      "File \u001b[0;32m~/projects/ai/ai_tests/venv/lib/python3.10/site-packages/PIL/Image.py:3277\u001b[0m, in \u001b[0;36mopen\u001b[0;34m(fp, mode, formats)\u001b[0m\n\u001b[1;32m   3274\u001b[0m     filename \u001b[38;5;241m=\u001b[39m os\u001b[38;5;241m.\u001b[39mpath\u001b[38;5;241m.\u001b[39mrealpath(os\u001b[38;5;241m.\u001b[39mfspath(fp))\n\u001b[1;32m   3276\u001b[0m \u001b[38;5;28;01mif\u001b[39;00m filename:\n\u001b[0;32m-> 3277\u001b[0m     fp \u001b[38;5;241m=\u001b[39m \u001b[43mbuiltins\u001b[49m\u001b[38;5;241;43m.\u001b[39;49m\u001b[43mopen\u001b[49m\u001b[43m(\u001b[49m\u001b[43mfilename\u001b[49m\u001b[43m,\u001b[49m\u001b[43m \u001b[49m\u001b[38;5;124;43m\"\u001b[39;49m\u001b[38;5;124;43mrb\u001b[39;49m\u001b[38;5;124;43m\"\u001b[39;49m\u001b[43m)\u001b[49m\n\u001b[1;32m   3278\u001b[0m     exclusive_fp \u001b[38;5;241m=\u001b[39m \u001b[38;5;28;01mTrue\u001b[39;00m\n\u001b[1;32m   3280\u001b[0m \u001b[38;5;28;01mtry\u001b[39;00m:\n",
      "\u001b[0;31mFileNotFoundError\u001b[0m: [Errno 2] No such file or directory: '/home/andrey/projects/ai/ai_digits/mnist/Test_imgs/0_ok.png'"
     ]
    }
   ],
   "source": [
    "import numpy as np\n",
    "from PIL import Image \n",
    "import matplotlib.pyplot as plt \n",
    "#import ai_functions as func\n",
    "\n",
    "img00 = np.asarray(Image.open('./Test_imgs/0_ok.png').convert('L'))\n",
    "img01 = np.asarray(Image.open('./Test_imgs/1_ok_1.png').convert('L'))\n",
    "img02 = np.asarray(Image.open('./Test_imgs/2_ok_1.png').convert('L'))\n",
    "img03 = np.asarray(Image.open('./Test_imgs/3_ok.png').convert('L'))\n",
    "img04 = np.asarray(Image.open('./Test_imgs/4_ok.png').convert('L'))\n",
    "\n",
    "img05 = np.asarray(Image.open('./Test_imgs/5_ok.png').convert('L'))\n",
    "img06 = np.asarray(Image.open('./Test_imgs/6_ok_1.png').convert('L'))\n",
    "img07 = np.asarray(Image.open('./Test_imgs/7_ok_1.png').convert('L'))\n",
    "img08 = np.asarray(Image.open('./Test_imgs/8_ok_1.png').convert('L'))\n",
    "img09 = np.asarray(Image.open('./Test_imgs/9_ok.png').convert('L'))\n",
    "\n",
    "img00 = np.invert(img00)\n",
    "img01 = np.invert(img01)\n",
    "img02 = np.invert(img02)\n",
    "img03 = np.invert(img03)\n",
    "img04 = np.invert(img04)\n",
    "\n",
    "img05 = np.invert(img05)\n",
    "img06 = np.invert(img06)\n",
    "img07 = np.invert(img07)\n",
    "img08 = np.invert(img08)\n",
    "img09 = np.invert(img09)\n",
    "\n",
    "### plot ################\n",
    "fig, axes = plt.subplots(2, 5, figsize=(6, 3))\n",
    "ax = axes.ravel()\n",
    "\n",
    "ax[0].imshow(img00, cmap=plt.cm.gray)\n",
    "ax[0].set_title(\"img00\")\n",
    "##################\n",
    "ax[1].imshow(img01, cmap=plt.cm.gray)\n",
    "ax[1].set_title(\"img01\")\n",
    "##################\n",
    "ax[2].imshow(img02, cmap=plt.cm.gray)\n",
    "ax[2].set_title(\"img02\")\n",
    "##################\n",
    "ax[3].imshow(img03, cmap=plt.cm.gray)\n",
    "ax[3].set_title(\"img03\")\n",
    "##################\n",
    "ax[4].imshow(img04, cmap=plt.cm.gray)\n",
    "ax[4].set_title(\"img04\")\n",
    "##################\n",
    "\n",
    "ax[5].imshow(img05, cmap=plt.cm.gray)\n",
    "ax[5].set_title(\"img05\")\n",
    "##################\n",
    "ax[6].imshow(img06, cmap=plt.cm.gray)\n",
    "ax[6].set_title(\"img06\")\n",
    "##################\n",
    "ax[7].imshow(img07, cmap=plt.cm.gray)\n",
    "ax[7].set_title(\"img07\")\n",
    "##################\n",
    "ax[8].imshow(img08, cmap=plt.cm.gray)\n",
    "ax[8].set_title(\"img08\")\n",
    "##################\n",
    "ax[9].imshow(img09, cmap=plt.cm.gray)\n",
    "ax[9].set_title(\"img09\")\n",
    "##################\n",
    "\n",
    "\n",
    "fig.tight_layout()\n",
    "plt.show()\n",
    "#######################\n",
    "\n",
    "#print('img01.dim =', img01.ndim)\n",
    "#print('img01.shape =', img01.shape)\n",
    "#print('img01[0][0] =', img01[0][0])"
   ]
  },
  {
   "cell_type": "code",
   "execution_count": 104,
   "id": "95246776-ae51-42b5-9a18-f49eb04ea7ea",
   "metadata": {},
   "outputs": [
    {
     "name": "stdout",
     "output_type": "stream",
     "text": [
      "img_arr.dim = 3\n",
      "img_arr.shape = (10, 28, 28)\n",
      "####### Reshape #######\n",
      "img_array.dim = 2\n",
      "img_array.shape = (10, 784)\n",
      "#######################\n",
      "####### Part1 Reshape Back #######\n",
      "img_arr_part1.dim = 2\n",
      "img_arr_part1.shape = (28, 28)\n",
      "#######################\n"
     ]
    }
   ],
   "source": [
    "img0 = img00.astype('float32') / 255\n",
    "img1 = img01.astype('float32') / 255\n",
    "img2 = img02.astype('float32') / 255\n",
    "img3 = img03.astype('float32') / 255\n",
    "img4 = img04.astype('float32') / 255\n",
    "img5 = img05.astype('float32') / 255\n",
    "img6 = img06.astype('float32') / 255\n",
    "img7 = img07.astype('float32') / 255\n",
    "img8 = img08.astype('float32') / 255\n",
    "img9 = img09.astype('float32') / 255\n",
    "\n",
    "img_arr = np.array( [ img0, img1, img2, img3, img4, img5, img6, img7, img8, img9  ] )\n",
    "\n",
    "print('img_arr.dim =', img_arr.ndim) \n",
    "print('img_arr.shape =', img_arr.shape) \n",
    "#print('img_arr[0][2] =', img_arr[0][2])\n",
    "\n",
    "img_arr = img_arr.reshape((10, 28 * 28)) \n",
    "print('####### Reshape #######')\n",
    "\n",
    "print('img_array.dim =', img_arr.ndim) \n",
    "print('img_array.shape =', img_arr.shape) \n",
    "print('#######################')\n",
    "\n",
    "print('####### Part1 Reshape Back #######') \n",
    "img_arr_part1 = img_arr[8].reshape((28 , 28)) \n",
    "print('img_arr_part1.dim =', img_arr_part1.ndim) \n",
    "print('img_arr_part1.shape =', img_arr_part1.shape) \n",
    "#plt.imshow(img_arr_part1, cmap=plt.cm.gray) \n",
    "print('#######################')"
   ]
  },
  {
   "cell_type": "code",
   "execution_count": 102,
   "id": "74c8d391-d88f-4021-807e-01aabc67e9cf",
   "metadata": {},
   "outputs": [
    {
     "name": "stdout",
     "output_type": "stream",
     "text": [
      "\u001b[1m1/1\u001b[0m \u001b[32m━━━━━━━━━━━━━━━━━━━━\u001b[0m\u001b[37m\u001b[0m \u001b[1m0s\u001b[0m 37ms/step\n",
      "#######################\n",
      "p_num =  0\n",
      "is  0 --- 1.000\n",
      "is  1 --- 0.000\n",
      "is  2 --- 0.000\n",
      "is  3 --- 0.000\n",
      "is  4 --- 0.000\n",
      "is  5 --- 0.000\n",
      "is  6 --- 0.000\n",
      "is  7 --- 0.000\n",
      "is  8 --- 0.000\n",
      "is  9 --- 0.000\n",
      "#######################\n",
      "p_num =  1\n",
      "is  0 --- 0.000\n",
      "is  1 --- 1.000\n",
      "is  2 --- 0.000\n",
      "is  3 --- 0.000\n",
      "is  4 --- 0.000\n",
      "is  5 --- 0.000\n",
      "is  6 --- 0.000\n",
      "is  7 --- 0.000\n",
      "is  8 --- 0.000\n",
      "is  9 --- 0.000\n",
      "#######################\n",
      "p_num =  2\n",
      "is  0 --- 0.000\n",
      "is  1 --- 0.000\n",
      "is  2 --- 1.000\n",
      "is  3 --- 0.000\n",
      "is  4 --- 0.000\n",
      "is  5 --- 0.000\n",
      "is  6 --- 0.000\n",
      "is  7 --- 0.000\n",
      "is  8 --- 0.000\n",
      "is  9 --- 0.000\n",
      "#######################\n",
      "p_num =  3\n",
      "is  0 --- 0.000\n",
      "is  1 --- 0.000\n",
      "is  2 --- 0.000\n",
      "is  3 --- 1.000\n",
      "is  4 --- 0.000\n",
      "is  5 --- 0.000\n",
      "is  6 --- 0.000\n",
      "is  7 --- 0.000\n",
      "is  8 --- 0.000\n",
      "is  9 --- 0.000\n",
      "#######################\n",
      "p_num =  4\n",
      "is  0 --- 0.000\n",
      "is  1 --- 0.000\n",
      "is  2 --- 0.000\n",
      "is  3 --- 0.000\n",
      "is  4 --- 1.000\n",
      "is  5 --- 0.000\n",
      "is  6 --- 0.000\n",
      "is  7 --- 0.000\n",
      "is  8 --- 0.000\n",
      "is  9 --- 0.000\n",
      "#######################\n",
      "p_num =  5\n",
      "is  0 --- 0.000\n",
      "is  1 --- 0.000\n",
      "is  2 --- 0.000\n",
      "is  3 --- 0.003\n",
      "is  4 --- 0.000\n",
      "is  5 --- 0.997\n",
      "is  6 --- 0.000\n",
      "is  7 --- 0.000\n",
      "is  8 --- 0.000\n",
      "is  9 --- 0.000\n",
      "#######################\n",
      "p_num =  6\n",
      "is  0 --- 0.000\n",
      "is  1 --- 0.000\n",
      "is  2 --- 0.000\n",
      "is  3 --- 0.000\n",
      "is  4 --- 0.000\n",
      "is  5 --- 0.000\n",
      "is  6 --- 1.000\n",
      "is  7 --- 0.000\n",
      "is  8 --- 0.000\n",
      "is  9 --- 0.000\n",
      "#######################\n",
      "p_num =  7\n",
      "is  0 --- 0.018\n",
      "is  1 --- 0.000\n",
      "is  2 --- 0.766\n",
      "is  3 --- 0.000\n",
      "is  4 --- 0.000\n",
      "is  5 --- 0.000\n",
      "is  6 --- 0.000\n",
      "is  7 --- 0.000\n",
      "is  8 --- 0.216\n",
      "is  9 --- 0.000\n",
      "#######################\n",
      "p_num =  8\n",
      "is  0 --- 0.000\n",
      "is  1 --- 0.000\n",
      "is  2 --- 0.000\n",
      "is  3 --- 0.990\n",
      "is  4 --- 0.000\n",
      "is  5 --- 0.000\n",
      "is  6 --- 0.000\n",
      "is  7 --- 0.000\n",
      "is  8 --- 0.010\n",
      "is  9 --- 0.000\n",
      "#######################\n",
      "p_num =  9\n",
      "is  0 --- 0.000\n",
      "is  1 --- 0.000\n",
      "is  2 --- 0.000\n",
      "is  3 --- 1.000\n",
      "is  4 --- 0.000\n",
      "is  5 --- 0.000\n",
      "is  6 --- 0.000\n",
      "is  7 --- 0.000\n",
      "is  8 --- 0.000\n",
      "is  9 --- 0.000\n",
      "#######################\n"
     ]
    }
   ],
   "source": [
    "predictions = model.predict(img_arr)\n",
    "#predictions[0]\n",
    "\n",
    "print('#######################')\n",
    "for p_num in range (10):\n",
    "    print('p_num = ', p_num)\n",
    "    for i in range (10):\n",
    "          print('is ', i, '---', \"%.3f\" %(predictions[p_num][i]))  \n",
    "    print('#######################')\n",
    "\n",
    "## 7, 8, 9"
   ]
  },
  {
   "cell_type": "code",
   "execution_count": 105,
   "id": "45195f36-2e24-4ec2-97c1-514b675365aa",
   "metadata": {},
   "outputs": [
    {
     "name": "stdout",
     "output_type": "stream",
     "text": [
      "[NbConvertApp] Converting notebook digits_v01.ipynb to script\n",
      "[NbConvertApp] Writing 5209 bytes to digits_v01.py\n"
     ]
    }
   ],
   "source": [
    "!jupyter nbconvert --to script digits_v01.ipynb"
   ]
  },
  {
   "cell_type": "code",
   "execution_count": null,
   "id": "ecd6dd20-a058-481a-9c05-7e4d9012b58c",
   "metadata": {},
   "outputs": [],
   "source": []
  }
 ],
 "metadata": {
  "kernelspec": {
   "display_name": "Python 3 (ipykernel)",
   "language": "python",
   "name": "python3"
  },
  "language_info": {
   "codemirror_mode": {
    "name": "ipython",
    "version": 3
   },
   "file_extension": ".py",
   "mimetype": "text/x-python",
   "name": "python",
   "nbconvert_exporter": "python",
   "pygments_lexer": "ipython3",
   "version": "3.10.12"
  }
 },
 "nbformat": 4,
 "nbformat_minor": 5
}
