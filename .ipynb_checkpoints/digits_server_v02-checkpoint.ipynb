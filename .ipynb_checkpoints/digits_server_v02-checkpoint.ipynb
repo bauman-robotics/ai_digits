{
 "cells": [
  {
   "cell_type": "code",
   "execution_count": 5,
   "id": "a2edc675-21b4-4186-8c80-7d1f0c3534d8",
   "metadata": {
    "scrolled": true
   },
   "outputs": [
    {
     "name": "stderr",
     "output_type": "stream",
     "text": [
      "2024-06-05 06:10:58.082142: I external/local_tsl/tsl/cuda/cudart_stub.cc:32] Could not find cuda drivers on your machine, GPU will not be used.\n",
      "2024-06-05 06:10:58.085814: I external/local_tsl/tsl/cuda/cudart_stub.cc:32] Could not find cuda drivers on your machine, GPU will not be used.\n",
      "2024-06-05 06:10:58.136543: I tensorflow/core/platform/cpu_feature_guard.cc:210] This TensorFlow binary is optimized to use available CPU instructions in performance-critical operations.\n",
      "To enable the following instructions: AVX2 FMA, in other operations, rebuild TensorFlow with the appropriate compiler flags.\n",
      "2024-06-05 06:10:59.177873: W tensorflow/compiler/tf2tensorrt/utils/py_utils.cc:38] TF-TRT Warning: Could not find TensorRT\n"
     ]
    },
    {
     "name": "stdout",
     "output_type": "stream",
     "text": [
      "model_file_name= /home/andrey/projects/ai/ai_digits/my_model.keras\n"
     ]
    },
    {
     "data": {
      "text/html": [
       "<pre style=\"white-space:pre;overflow-x:auto;line-height:normal;font-family:Menlo,'DejaVu Sans Mono',consolas,'Courier New',monospace\"><span style=\"font-weight: bold\">Model: \"sequential_2\"</span>\n",
       "</pre>\n"
      ],
      "text/plain": [
       "\u001b[1mModel: \"sequential_2\"\u001b[0m\n"
      ]
     },
     "metadata": {},
     "output_type": "display_data"
    },
    {
     "data": {
      "text/html": [
       "<pre style=\"white-space:pre;overflow-x:auto;line-height:normal;font-family:Menlo,'DejaVu Sans Mono',consolas,'Courier New',monospace\">┏━━━━━━━━━━━━━━━━━━━━━━━━━━━━━━━━━┳━━━━━━━━━━━━━━━━━━━━━━━━┳━━━━━━━━━━━━━━━┓\n",
       "┃<span style=\"font-weight: bold\"> Layer (type)                    </span>┃<span style=\"font-weight: bold\"> Output Shape           </span>┃<span style=\"font-weight: bold\">       Param # </span>┃\n",
       "┡━━━━━━━━━━━━━━━━━━━━━━━━━━━━━━━━━╇━━━━━━━━━━━━━━━━━━━━━━━━╇━━━━━━━━━━━━━━━┩\n",
       "│ dense_4 (<span style=\"color: #0087ff; text-decoration-color: #0087ff\">Dense</span>)                 │ (<span style=\"color: #00d7ff; text-decoration-color: #00d7ff\">None</span>, <span style=\"color: #00af00; text-decoration-color: #00af00\">512</span>)            │       <span style=\"color: #00af00; text-decoration-color: #00af00\">401,920</span> │\n",
       "├─────────────────────────────────┼────────────────────────┼───────────────┤\n",
       "│ dense_5 (<span style=\"color: #0087ff; text-decoration-color: #0087ff\">Dense</span>)                 │ (<span style=\"color: #00d7ff; text-decoration-color: #00d7ff\">None</span>, <span style=\"color: #00af00; text-decoration-color: #00af00\">10</span>)             │         <span style=\"color: #00af00; text-decoration-color: #00af00\">5,130</span> │\n",
       "└─────────────────────────────────┴────────────────────────┴───────────────┘\n",
       "</pre>\n"
      ],
      "text/plain": [
       "┏━━━━━━━━━━━━━━━━━━━━━━━━━━━━━━━━━┳━━━━━━━━━━━━━━━━━━━━━━━━┳━━━━━━━━━━━━━━━┓\n",
       "┃\u001b[1m \u001b[0m\u001b[1mLayer (type)                   \u001b[0m\u001b[1m \u001b[0m┃\u001b[1m \u001b[0m\u001b[1mOutput Shape          \u001b[0m\u001b[1m \u001b[0m┃\u001b[1m \u001b[0m\u001b[1m      Param #\u001b[0m\u001b[1m \u001b[0m┃\n",
       "┡━━━━━━━━━━━━━━━━━━━━━━━━━━━━━━━━━╇━━━━━━━━━━━━━━━━━━━━━━━━╇━━━━━━━━━━━━━━━┩\n",
       "│ dense_4 (\u001b[38;5;33mDense\u001b[0m)                 │ (\u001b[38;5;45mNone\u001b[0m, \u001b[38;5;34m512\u001b[0m)            │       \u001b[38;5;34m401,920\u001b[0m │\n",
       "├─────────────────────────────────┼────────────────────────┼───────────────┤\n",
       "│ dense_5 (\u001b[38;5;33mDense\u001b[0m)                 │ (\u001b[38;5;45mNone\u001b[0m, \u001b[38;5;34m10\u001b[0m)             │         \u001b[38;5;34m5,130\u001b[0m │\n",
       "└─────────────────────────────────┴────────────────────────┴───────────────┘\n"
      ]
     },
     "metadata": {},
     "output_type": "display_data"
    },
    {
     "data": {
      "text/html": [
       "<pre style=\"white-space:pre;overflow-x:auto;line-height:normal;font-family:Menlo,'DejaVu Sans Mono',consolas,'Courier New',monospace\"><span style=\"font-weight: bold\"> Total params: </span><span style=\"color: #00af00; text-decoration-color: #00af00\">814,102</span> (3.11 MB)\n",
       "</pre>\n"
      ],
      "text/plain": [
       "\u001b[1m Total params: \u001b[0m\u001b[38;5;34m814,102\u001b[0m (3.11 MB)\n"
      ]
     },
     "metadata": {},
     "output_type": "display_data"
    },
    {
     "data": {
      "text/html": [
       "<pre style=\"white-space:pre;overflow-x:auto;line-height:normal;font-family:Menlo,'DejaVu Sans Mono',consolas,'Courier New',monospace\"><span style=\"font-weight: bold\"> Trainable params: </span><span style=\"color: #00af00; text-decoration-color: #00af00\">407,050</span> (1.55 MB)\n",
       "</pre>\n"
      ],
      "text/plain": [
       "\u001b[1m Trainable params: \u001b[0m\u001b[38;5;34m407,050\u001b[0m (1.55 MB)\n"
      ]
     },
     "metadata": {},
     "output_type": "display_data"
    },
    {
     "data": {
      "text/html": [
       "<pre style=\"white-space:pre;overflow-x:auto;line-height:normal;font-family:Menlo,'DejaVu Sans Mono',consolas,'Courier New',monospace\"><span style=\"font-weight: bold\"> Non-trainable params: </span><span style=\"color: #00af00; text-decoration-color: #00af00\">0</span> (0.00 B)\n",
       "</pre>\n"
      ],
      "text/plain": [
       "\u001b[1m Non-trainable params: \u001b[0m\u001b[38;5;34m0\u001b[0m (0.00 B)\n"
      ]
     },
     "metadata": {},
     "output_type": "display_data"
    },
    {
     "data": {
      "text/html": [
       "<pre style=\"white-space:pre;overflow-x:auto;line-height:normal;font-family:Menlo,'DejaVu Sans Mono',consolas,'Courier New',monospace\"><span style=\"font-weight: bold\"> Optimizer params: </span><span style=\"color: #00af00; text-decoration-color: #00af00\">407,052</span> (1.55 MB)\n",
       "</pre>\n"
      ],
      "text/plain": [
       "\u001b[1m Optimizer params: \u001b[0m\u001b[38;5;34m407,052\u001b[0m (1.55 MB)\n"
      ]
     },
     "metadata": {},
     "output_type": "display_data"
    }
   ],
   "source": [
    "from tensorflow.keras.datasets import mnist\n",
    "(train_images, train_labels), (test_images, test_labels) = mnist.load_data()\n",
    "import matplotlib.pyplot as plt\n",
    "#-----------------\n",
    "from tensorflow import keras\n",
    "from tensorflow.keras import layers\n",
    "#-----------------\n",
    "import numpy as np\n",
    "from PIL import Image \n",
    "#-----------------\n",
    "import os\n",
    "#--- create model --------------\n",
    "model = keras.Sequential([\n",
    "layers.Dense(512, activation=\"relu\"),\n",
    "layers.Dense(10, activation=\"softmax\")\n",
    "])\n",
    "#----- compile model -----------\n",
    "model.compile(optimizer=\"rmsprop\",\n",
    "loss=\"sparse_categorical_crossentropy\",\n",
    "metrics=[\"accuracy\"])\n",
    "#-------------------------------\n",
    "\n",
    "#-----------------------------------------------\n",
    "# Восстановление состояния модели\n",
    "path = os.getcwd()\n",
    "model_file = path + '/my_model.keras'\n",
    "print(\"model_file_name=\", model_file)\n",
    "model = keras.models.load_model(model_file)\n",
    "#-----------------------------------------------\n",
    "model.summary()"
   ]
  },
  {
   "cell_type": "code",
   "execution_count": 6,
   "id": "da0f454a-4168-4a22-a018-ab0e068e7b4e",
   "metadata": {},
   "outputs": [
    {
     "name": "stdout",
     "output_type": "stream",
     "text": [
      "dtype = uint8\n",
      "ndim = 3\n",
      "shape = (60000, 28, 28)\n"
     ]
    },
    {
     "data": {
      "image/png": "[encoded data removed]",
      "text/plain": [
       "<Figure size 640x480 with 1 Axes>"
      ]
     },
     "metadata": {},
     "output_type": "display_data"
    }
   ],
   "source": [
    "type(train_images)\n",
    "print('dtype =', train_images.dtype)\n",
    "print('ndim =', train_images.ndim)\n",
    "print('shape =', train_images.shape)\n",
    "\n",
    "#plt.imshow(train_images[0], cmap=plt.cm.binary)\n",
    "plt.imshow(train_images[0], cmap=plt.cm.gray)\n",
    "\n",
    "plt.show()\n",
    "\n",
    "train_images = train_images.reshape((60000, 28 * 28))\n",
    "train_images = train_images.astype('float32') / 255\n",
    "test_images = test_images.reshape((10000, 28 * 28))\n",
    "test_images = test_images.astype('float32') / 255"
   ]
  },
  {
   "cell_type": "code",
   "execution_count": 7,
   "id": "01061678-89e3-41d8-aae5-bab8609a0097",
   "metadata": {
    "scrolled": true
   },
   "outputs": [],
   "source": [
    "#model.fit(train_images, train_labels, epochs=5, batch_size=128)\n",
    "####model.fit(train_images, train_labels, epochs=100, batch_size=500)"
   ]
  },
  {
   "cell_type": "code",
   "execution_count": 8,
   "id": "d18b61da-2c36-44a4-ae3a-b507901d149b",
   "metadata": {},
   "outputs": [
    {
     "name": "stdout",
     "output_type": "stream",
     "text": [
      "\u001b[1m1/1\u001b[0m \u001b[32m━━━━━━━━━━━━━━━━━━━━\u001b[0m\u001b[37m\u001b[0m \u001b[1m0s\u001b[0m 108ms/step\n",
      "#######################\n",
      "p_num =  0\n",
      "test_label - 7\n",
      "is  0 --- 0.000\n",
      "is  1 --- 0.000\n",
      "is  2 --- 0.000\n",
      "is  3 --- 0.000\n",
      "is  4 --- 0.000\n",
      "is  5 --- 0.000\n",
      "is  6 --- 0.000\n",
      "is  7 --- 1.000\n",
      "is  8 --- 0.000\n",
      "is  9 --- 0.000\n",
      "#######################\n",
      "p_num =  1\n",
      "test_label - 2\n",
      "is  0 --- 0.000\n",
      "is  1 --- 0.000\n",
      "is  2 --- 1.000\n",
      "is  3 --- 0.000\n",
      "is  4 --- 0.000\n",
      "is  5 --- 0.000\n",
      "is  6 --- 0.000\n",
      "is  7 --- 0.000\n",
      "is  8 --- 0.000\n",
      "is  9 --- 0.000\n",
      "#######################\n"
     ]
    }
   ],
   "source": [
    "test_digits = test_images[0:10]\n",
    "predictions = model.predict(test_digits)\n",
    "#predictions[0]\n",
    "\n",
    "print('#######################')\n",
    "p_num = 0\n",
    "print('p_num = ', p_num)\n",
    "print('test_label -' , test_labels[p_num])\n",
    "for i in range (10):\n",
    "      print('is ', i, '---', \"%.3f\" %(predictions[p_num][i])) \n",
    "print('#######################')\n",
    "\n",
    "p_num = 1\n",
    "print('p_num = ', p_num)\n",
    "print('test_label -' , test_labels[p_num])\n",
    "for i in range (10):\n",
    "      print('is ', i, '---', \"%.3f\" %(predictions[p_num][i])) \n",
    "print('#######################')"
   ]
  },
  {
   "cell_type": "code",
   "execution_count": 9,
   "id": "6b38a27c-b2b9-4dd1-a94b-92b63901720d",
   "metadata": {
    "scrolled": true
   },
   "outputs": [
    {
     "data": {
      "image/png": "[encoded data removed]",
      "text/plain": [
       "<Figure size 600x300 with 10 Axes>"
      ]
     },
     "metadata": {},
     "output_type": "display_data"
    }
   ],
   "source": [
    "# import numpy as np\n",
    "# from PIL import Image \n",
    "# import matplotlib.pyplot as plt \n",
    "#import ai_functions as func\n",
    "\n",
    "img00 = np.asarray(Image.open('./Test_imgs/0_ok.png').convert('L'))\n",
    "img01 = np.asarray(Image.open('./Test_imgs/1_ok_1.png').convert('L'))\n",
    "img02 = np.asarray(Image.open('./Test_imgs/2_ok_1.png').convert('L'))\n",
    "img03 = np.asarray(Image.open('./Test_imgs/3_ok.png').convert('L'))\n",
    "img04 = np.asarray(Image.open('./Test_imgs/4_ok.png').convert('L'))\n",
    "\n",
    "img05 = np.asarray(Image.open('./Test_imgs/5_ok.png').convert('L'))\n",
    "img06 = np.asarray(Image.open('./Test_imgs/6_ok_1.png').convert('L'))\n",
    "img07 = np.asarray(Image.open('./Test_imgs/7_ok_1.png').convert('L'))\n",
    "img08 = np.asarray(Image.open('./Test_imgs/8_ok_1.png').convert('L'))\n",
    "img09 = np.asarray(Image.open('./Test_imgs/9_ok.png').convert('L'))\n",
    "\n",
    "img00 = np.invert(img00)\n",
    "img01 = np.invert(img01)\n",
    "img02 = np.invert(img02)\n",
    "img03 = np.invert(img03)\n",
    "img04 = np.invert(img04)\n",
    "\n",
    "img05 = np.invert(img05)\n",
    "img06 = np.invert(img06)\n",
    "img07 = np.invert(img07)\n",
    "img08 = np.invert(img08)\n",
    "img09 = np.invert(img09)\n",
    "\n",
    "### plot ################\n",
    "fig, axes = plt.subplots(2, 5, figsize=(6, 3))\n",
    "ax = axes.ravel()\n",
    "\n",
    "ax[0].imshow(img00, cmap=plt.cm.gray)\n",
    "ax[0].set_title(\"img00\")\n",
    "##################\n",
    "ax[1].imshow(img01, cmap=plt.cm.gray)\n",
    "ax[1].set_title(\"img01\")\n",
    "##################\n",
    "ax[2].imshow(img02, cmap=plt.cm.gray)\n",
    "ax[2].set_title(\"img02\")\n",
    "##################\n",
    "ax[3].imshow(img03, cmap=plt.cm.gray)\n",
    "ax[3].set_title(\"img03\")\n",
    "##################\n",
    "ax[4].imshow(img04, cmap=plt.cm.gray)\n",
    "ax[4].set_title(\"img04\")\n",
    "##################\n",
    "\n",
    "ax[5].imshow(img05, cmap=plt.cm.gray)\n",
    "ax[5].set_title(\"img05\")\n",
    "##################\n",
    "ax[6].imshow(img06, cmap=plt.cm.gray)\n",
    "ax[6].set_title(\"img06\")\n",
    "##################\n",
    "ax[7].imshow(img07, cmap=plt.cm.gray)\n",
    "ax[7].set_title(\"img07\")\n",
    "##################\n",
    "ax[8].imshow(img08, cmap=plt.cm.gray)\n",
    "ax[8].set_title(\"img08\")\n",
    "##################\n",
    "ax[9].imshow(img09, cmap=plt.cm.gray)\n",
    "ax[9].set_title(\"img09\")\n",
    "##################\n",
    "\n",
    "\n",
    "fig.tight_layout()\n",
    "plt.show()\n",
    "#######################\n",
    "\n",
    "fig.savefig('plt.png')\n",
    "\n",
    "#print('img01.dim =', img01.ndim)\n",
    "#print('img01.shape =', img01.shape)\n",
    "#print('img01[0][0] =', img01[0][0])"
   ]
  },
  {
   "cell_type": "code",
   "execution_count": 10,
   "id": "95246776-ae51-42b5-9a18-f49eb04ea7ea",
   "metadata": {},
   "outputs": [
    {
     "name": "stdout",
     "output_type": "stream",
     "text": [
      "img_arr.dim = 3\n",
      "img_arr.shape = (10, 28, 28)\n",
      "####### Reshape #######\n",
      "img_array.dim = 2\n",
      "img_array.shape = (10, 784)\n",
      "#######################\n",
      "####### Part1 Reshape Back #######\n",
      "img_arr_part1.dim = 2\n",
      "img_arr_part1.shape = (28, 28)\n",
      "#######################\n"
     ]
    }
   ],
   "source": [
    "img0 = img00.astype('float32') / 255\n",
    "img1 = img01.astype('float32') / 255\n",
    "img2 = img02.astype('float32') / 255\n",
    "img3 = img03.astype('float32') / 255\n",
    "img4 = img04.astype('float32') / 255\n",
    "img5 = img05.astype('float32') / 255\n",
    "img6 = img06.astype('float32') / 255\n",
    "img7 = img07.astype('float32') / 255\n",
    "img8 = img08.astype('float32') / 255\n",
    "img9 = img09.astype('float32') / 255\n",
    "\n",
    "img_arr = np.array( [ img0, img1, img2, img3, img4, img5, img6, img7, img8, img9  ] )\n",
    "\n",
    "print('img_arr.dim =', img_arr.ndim) \n",
    "print('img_arr.shape =', img_arr.shape) \n",
    "#print('img_arr[0][2] =', img_arr[0][2])\n",
    "\n",
    "img_arr = img_arr.reshape((10, 28 * 28)) \n",
    "print('####### Reshape #######')\n",
    "\n",
    "print('img_array.dim =', img_arr.ndim) \n",
    "print('img_array.shape =', img_arr.shape) \n",
    "print('#######################')\n",
    "\n",
    "print('####### Part1 Reshape Back #######') \n",
    "img_arr_part1 = img_arr[8].reshape((28 , 28)) \n",
    "print('img_arr_part1.dim =', img_arr_part1.ndim) \n",
    "print('img_arr_part1.shape =', img_arr_part1.shape) \n",
    "#plt.imshow(img_arr_part1, cmap=plt.cm.gray) \n",
    "print('#######################')"
   ]
  },
  {
   "cell_type": "code",
   "execution_count": 11,
   "id": "74c8d391-d88f-4021-807e-01aabc67e9cf",
   "metadata": {},
   "outputs": [
    {
     "name": "stdout",
     "output_type": "stream",
     "text": [
      "\u001b[1m1/1\u001b[0m \u001b[32m━━━━━━━━━━━━━━━━━━━━\u001b[0m\u001b[37m\u001b[0m \u001b[1m0s\u001b[0m 26ms/step\n",
      "#######################\n",
      "p_num =  0\n",
      "is  0 --- 0.995\n",
      "is  1 --- 0.000\n",
      "is  2 --- 0.002\n",
      "is  3 --- 0.001\n",
      "is  4 --- 0.000\n",
      "is  5 --- 0.000\n",
      "is  6 --- 0.000\n",
      "is  7 --- 0.000\n",
      "is  8 --- 0.000\n",
      "is  9 --- 0.002\n",
      "#######################\n",
      "p_num =  1\n",
      "is  0 --- 0.000\n",
      "is  1 --- 0.961\n",
      "is  2 --- 0.005\n",
      "is  3 --- 0.000\n",
      "is  4 --- 0.000\n",
      "is  5 --- 0.002\n",
      "is  6 --- 0.000\n",
      "is  7 --- 0.000\n",
      "is  8 --- 0.032\n",
      "is  9 --- 0.000\n",
      "#######################\n",
      "p_num =  2\n",
      "is  0 --- 0.000\n",
      "is  1 --- 0.000\n",
      "is  2 --- 0.839\n",
      "is  3 --- 0.154\n",
      "is  4 --- 0.000\n",
      "is  5 --- 0.000\n",
      "is  6 --- 0.000\n",
      "is  7 --- 0.000\n",
      "is  8 --- 0.007\n",
      "is  9 --- 0.000\n",
      "#######################\n",
      "p_num =  3\n",
      "is  0 --- 0.000\n",
      "is  1 --- 0.000\n",
      "is  2 --- 0.000\n",
      "is  3 --- 1.000\n",
      "is  4 --- 0.000\n",
      "is  5 --- 0.000\n",
      "is  6 --- 0.000\n",
      "is  7 --- 0.000\n",
      "is  8 --- 0.000\n",
      "is  9 --- 0.000\n",
      "#######################\n",
      "p_num =  4\n",
      "is  0 --- 0.000\n",
      "is  1 --- 0.000\n",
      "is  2 --- 0.000\n",
      "is  3 --- 0.000\n",
      "is  4 --- 1.000\n",
      "is  5 --- 0.000\n",
      "is  6 --- 0.000\n",
      "is  7 --- 0.000\n",
      "is  8 --- 0.000\n",
      "is  9 --- 0.000\n",
      "#######################\n",
      "p_num =  5\n",
      "is  0 --- 0.000\n",
      "is  1 --- 0.000\n",
      "is  2 --- 0.000\n",
      "is  3 --- 0.275\n",
      "is  4 --- 0.000\n",
      "is  5 --- 0.724\n",
      "is  6 --- 0.000\n",
      "is  7 --- 0.000\n",
      "is  8 --- 0.000\n",
      "is  9 --- 0.001\n",
      "#######################\n",
      "p_num =  6\n",
      "is  0 --- 0.000\n",
      "is  1 --- 0.000\n",
      "is  2 --- 0.000\n",
      "is  3 --- 0.000\n",
      "is  4 --- 0.000\n",
      "is  5 --- 0.047\n",
      "is  6 --- 0.946\n",
      "is  7 --- 0.000\n",
      "is  8 --- 0.007\n",
      "is  9 --- 0.000\n",
      "#######################\n",
      "p_num =  7\n",
      "is  0 --- 0.002\n",
      "is  1 --- 0.000\n",
      "is  2 --- 0.979\n",
      "is  3 --- 0.009\n",
      "is  4 --- 0.000\n",
      "is  5 --- 0.000\n",
      "is  6 --- 0.000\n",
      "is  7 --- 0.000\n",
      "is  8 --- 0.009\n",
      "is  9 --- 0.000\n",
      "#######################\n",
      "p_num =  8\n",
      "is  0 --- 0.000\n",
      "is  1 --- 0.000\n",
      "is  2 --- 0.000\n",
      "is  3 --- 0.994\n",
      "is  4 --- 0.000\n",
      "is  5 --- 0.000\n",
      "is  6 --- 0.000\n",
      "is  7 --- 0.000\n",
      "is  8 --- 0.006\n",
      "is  9 --- 0.000\n",
      "#######################\n",
      "p_num =  9\n",
      "is  0 --- 0.000\n",
      "is  1 --- 0.000\n",
      "is  2 --- 0.000\n",
      "is  3 --- 1.000\n",
      "is  4 --- 0.000\n",
      "is  5 --- 0.000\n",
      "is  6 --- 0.000\n",
      "is  7 --- 0.000\n",
      "is  8 --- 0.000\n",
      "is  9 --- 0.000\n",
      "#######################\n"
     ]
    }
   ],
   "source": [
    "predictions = model.predict(img_arr)\n",
    "#predictions[0]\n",
    "\n",
    "print('#######################')\n",
    "for p_num in range (10):\n",
    "    print('p_num = ', p_num)\n",
    "    for i in range (10):\n",
    "          print('is ', i, '---', \"%.3f\" %(predictions[p_num][i]))  \n",
    "    print('#######################')\n",
    "\n",
    "## 7, 8, 9"
   ]
  },
  {
   "cell_type": "code",
   "execution_count": 12,
   "id": "ecd6dd20-a058-481a-9c05-7e4d9012b58c",
   "metadata": {},
   "outputs": [],
   "source": [
    "# Сохранение весов в файл HDF5\n",
    "model.save(model_file)\n",
    "#model.save_weights('my_model.keras')\n"
   ]
  },
  {
   "cell_type": "code",
   "execution_count": 68,
   "id": "6c6a863d-c063-488f-b09c-2b7636ba85ce",
   "metadata": {},
   "outputs": [
    {
     "name": "stdout",
     "output_type": "stream",
     "text": [
      "100\n",
      "count right test_files =  10\n",
      "first_file_name  =  5_ok.png\n",
      "second_file_name =  7_ok_1.png\n"
     ]
    }
   ],
   "source": [
    "#################################################################################\n",
    "#################################################################################\n",
    "#################################################################################\n",
    "#=== Get Test Imgs Names and Valid Count ===\n",
    "import Test_Folder_Packet\n",
    "import os           # temp \n",
    "path = os.getcwd()  # temp\n",
    "f_name_ok  = ['' for _ in range(Test_Folder_Packet.MAX_COUNT_TEST_IMGS)]\n",
    "\n",
    "f_ok_count = Test_Folder_Packet.Test_Imgs_Get(path, f_name_ok)\n",
    "\n",
    "print(str(Test_Folder_Packet.MAX_COUNT_TEST_IMGS))\n",
    "print(\"count right test_files = \", str(f_ok_count))\n",
    "print(\"first_file_name  = \", f_name_ok[0])\n",
    "print(\"second_file_name = \", f_name_ok[1])"
   ]
  },
  {
   "cell_type": "code",
   "execution_count": 75,
   "id": "8a802c92-4912-49e2-84ee-144639ce5c63",
   "metadata": {},
   "outputs": [],
   "source": [
    "#=== Get Test Imgs ===\n",
    "test_imgs  = ['' for _ in range(f_ok_count)]\n",
    "imgs  = np.zeros((f_ok_count,28,28))\n",
    "for i in range(f_ok_count) :\n",
    "    test_imgs[i] = np.asarray(Image.open(path + \"/web_test_imgs/\" + f_name_ok[i]).convert('L'))\n",
    "    imgs[i] = np.invert(test_imgs[i])\n",
    "    imgs[i] = imgs[i].astype('float32') / 255"
   ]
  },
  {
   "cell_type": "code",
   "execution_count": 76,
   "id": "0512455a-a528-492a-81e8-fbd6b24b41a9",
   "metadata": {},
   "outputs": [
    {
     "data": {
      "image/png": "[encoded data removed]",
      "text/plain": [
       "<Figure size 600x300 with 10 Axes>"
      ]
     },
     "metadata": {},
     "output_type": "display_data"
    }
   ],
   "source": [
    "#=== plot Test Imgs ===\n",
    "\n",
    "plt_w_count = 5\n",
    "plt_h_count = 2\n",
    "fig, axes = plt.subplots(plt_h_count, plt_w_count, figsize=(6, 3))\n",
    "ax = axes.ravel()\n",
    "\n",
    "if (f_ok_count > 10) :\n",
    "    plot_count = 10\n",
    "else :\n",
    "    plot_count = f_ok_count\n",
    "    \n",
    "for i in range(plot_count) :    \n",
    "    ax[i].imshow(imgs[i], cmap=plt.cm.gray)\n",
    "    ax[i].set_title(str(f_name_ok[i]))\n",
    "\n",
    "fig.tight_layout()\n",
    "plt.show()\n",
    "#=== save plot Test Imgs ===\n",
    "\n",
    "fig.savefig('plt.png')"
   ]
  },
  {
   "cell_type": "code",
   "execution_count": 77,
   "id": "9136f66c-deb4-4793-8ffa-1004afb89499",
   "metadata": {},
   "outputs": [],
   "source": [
    "#=== Reshape ====\n",
    "print('imgs.dim =', imgs[0].ndim) \n",
    "print('imgs.shape =', imgs[0].shape) \n",
    "imgs = imgs.reshape((f_ok_count, Test_Folder_Packet.file_h * Test_Folder_Packet.file_w)) \n",
    "print('test_imgs.dim =', imgs[0].ndim) \n",
    "print('test_imgs.shape =', imgs.shape) "
   ]
  },
  {
   "cell_type": "code",
   "execution_count": 80,
   "id": "b7581aed-05c8-4a52-83fd-f2c2a4488385",
   "metadata": {},
   "outputs": [
    {
     "name": "stdout",
     "output_type": "stream",
     "text": [
      "\u001b[1m1/1\u001b[0m \u001b[32m━━━━━━━━━━━━━━━━━━━━\u001b[0m\u001b[37m\u001b[0m \u001b[1m0s\u001b[0m 26ms/step\n",
      "#######################\n",
      "img_name =  5_ok.png\n",
      "is  0 --- 0.000\n",
      "is  1 --- 0.000\n",
      "is  2 --- 0.000\n",
      "is  3 --- 0.275\n",
      "is  4 --- 0.000\n",
      "is  5 --- 0.724\n",
      "is  6 --- 0.000\n",
      "is  7 --- 0.000\n",
      "is  8 --- 0.000\n",
      "is  9 --- 0.001\n",
      "#######################\n",
      "img_name =  7_ok_1.png\n",
      "is  0 --- 0.002\n",
      "is  1 --- 0.000\n",
      "is  2 --- 0.979\n",
      "is  3 --- 0.009\n",
      "is  4 --- 0.000\n",
      "is  5 --- 0.000\n",
      "is  6 --- 0.000\n",
      "is  7 --- 0.000\n",
      "is  8 --- 0.009\n",
      "is  9 --- 0.000\n",
      "#######################\n",
      "img_name =  3_ok.png\n",
      "is  0 --- 0.000\n",
      "is  1 --- 0.000\n",
      "is  2 --- 0.000\n",
      "is  3 --- 1.000\n",
      "is  4 --- 0.000\n",
      "is  5 --- 0.000\n",
      "is  6 --- 0.000\n",
      "is  7 --- 0.000\n",
      "is  8 --- 0.000\n",
      "is  9 --- 0.000\n",
      "#######################\n",
      "img_name =  2_ok_1.png\n",
      "is  0 --- 0.000\n",
      "is  1 --- 0.000\n",
      "is  2 --- 0.839\n",
      "is  3 --- 0.154\n",
      "is  4 --- 0.000\n",
      "is  5 --- 0.000\n",
      "is  6 --- 0.000\n",
      "is  7 --- 0.000\n",
      "is  8 --- 0.007\n",
      "is  9 --- 0.000\n",
      "#######################\n",
      "img_name =  6_ok_1.png\n",
      "is  0 --- 0.000\n",
      "is  1 --- 0.000\n",
      "is  2 --- 0.000\n",
      "is  3 --- 0.000\n",
      "is  4 --- 0.000\n",
      "is  5 --- 0.047\n",
      "is  6 --- 0.946\n",
      "is  7 --- 0.000\n",
      "is  8 --- 0.007\n",
      "is  9 --- 0.000\n",
      "#######################\n",
      "img_name =  4_ok.png\n",
      "is  0 --- 0.000\n",
      "is  1 --- 0.000\n",
      "is  2 --- 0.000\n",
      "is  3 --- 0.000\n",
      "is  4 --- 1.000\n",
      "is  5 --- 0.000\n",
      "is  6 --- 0.000\n",
      "is  7 --- 0.000\n",
      "is  8 --- 0.000\n",
      "is  9 --- 0.000\n",
      "#######################\n",
      "img_name =  1_ok_1.png\n",
      "is  0 --- 0.000\n",
      "is  1 --- 0.961\n",
      "is  2 --- 0.005\n",
      "is  3 --- 0.000\n",
      "is  4 --- 0.000\n",
      "is  5 --- 0.002\n",
      "is  6 --- 0.000\n",
      "is  7 --- 0.000\n",
      "is  8 --- 0.032\n",
      "is  9 --- 0.000\n",
      "#######################\n",
      "img_name =  8_ok_1.png\n",
      "is  0 --- 0.000\n",
      "is  1 --- 0.000\n",
      "is  2 --- 0.000\n",
      "is  3 --- 0.994\n",
      "is  4 --- 0.000\n",
      "is  5 --- 0.000\n",
      "is  6 --- 0.000\n",
      "is  7 --- 0.000\n",
      "is  8 --- 0.006\n",
      "is  9 --- 0.000\n",
      "#######################\n",
      "img_name =  9_ok.png\n",
      "is  0 --- 0.000\n",
      "is  1 --- 0.000\n",
      "is  2 --- 0.000\n",
      "is  3 --- 1.000\n",
      "is  4 --- 0.000\n",
      "is  5 --- 0.000\n",
      "is  6 --- 0.000\n",
      "is  7 --- 0.000\n",
      "is  8 --- 0.000\n",
      "is  9 --- 0.000\n",
      "#######################\n",
      "img_name =  0_ok.png\n",
      "is  0 --- 0.995\n",
      "is  1 --- 0.000\n",
      "is  2 --- 0.002\n",
      "is  3 --- 0.001\n",
      "is  4 --- 0.000\n",
      "is  5 --- 0.000\n",
      "is  6 --- 0.000\n",
      "is  7 --- 0.000\n",
      "is  8 --- 0.000\n",
      "is  9 --- 0.002\n",
      "#######################\n"
     ]
    }
   ],
   "source": [
    "predictions = model.predict(imgs)\n",
    "#predictions[0]\n",
    "\n",
    "print('#######################')\n",
    "for p_num in range (f_ok_count):\n",
    "    print('img_name = ', f_name_ok[p_num])\n",
    "    for i in range (10):\n",
    "          print('is ', i, '---', \"%.3f\" %(predictions[p_num][i]))  \n",
    "    print('#######################')"
   ]
  },
  {
   "cell_type": "code",
   "execution_count": 4,
   "id": "4365949b-e3bf-4702-ba07-d16babca6faf",
   "metadata": {},
   "outputs": [
    {
     "name": "stdout",
     "output_type": "stream",
     "text": [
      "[NbConvertApp] Converting notebook digits_v01.ipynb to script\n",
      "[NbConvertApp] Writing 9001 bytes to digits_v01.py\n"
     ]
    }
   ],
   "source": [
    "!jupyter nbconvert --to script digits_v01.ipynb"
   ]
  },
  {
   "cell_type": "code",
   "execution_count": null,
   "id": "8936521a-305e-4241-a4ba-6e8f65410039",
   "metadata": {},
   "outputs": [],
   "source": []
  },
  {
   "cell_type": "code",
   "execution_count": null,
   "id": "cebf4f5f-5cfe-4dba-b410-87f7e38ab82a",
   "metadata": {},
   "outputs": [],
   "source": []
  }
 ],
 "metadata": {
  "kernelspec": {
   "display_name": "Python 3 (ipykernel)",
   "language": "python",
   "name": "python3"
  },
  "language_info": {
   "codemirror_mode": {
    "name": "ipython",
    "version": 3
   },
   "file_extension": ".py",
   "mimetype": "text/x-python",
   "name": "python",
   "nbconvert_exporter": "python",
   "pygments_lexer": "ipython3",
   "version": "3.10.12"
  }
 },
 "nbformat": 4,
 "nbformat_minor": 5
}
